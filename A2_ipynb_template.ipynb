{
  "nbformat": 4,
  "nbformat_minor": 0,
  "metadata": {
    "colab": {
      "name": "A2_ipynb_template.ipynb",
      "provenance": [],
      "collapsed_sections": [],
      "toc_visible": true,
      "include_colab_link": true
    },
    "kernelspec": {
      "name": "python3",
      "display_name": "Python 3"
    }
  },
  "cells": [
    {
      "cell_type": "markdown",
      "metadata": {
        "id": "view-in-github",
        "colab_type": "text"
      },
      "source": [
        "<a href=\"https://colab.research.google.com/github/enrilwang/-/blob/master/A2_ipynb_template.ipynb\" target=\"_parent\"><img src=\"https://colab.research.google.com/assets/colab-badge.svg\" alt=\"Open In Colab\"/></a>"
      ]
    },
    {
      "cell_type": "markdown",
      "metadata": {
        "id": "H0eP3e_PjUBJ"
      },
      "source": [
        "# COMP5318 Assignment 2\n",
        "*Make sure you change the file name with your unikey*"
      ]
    },
    {
      "cell_type": "markdown",
      "metadata": {
        "id": "uHOuqG7PjhMp"
      },
      "source": [
        "# 1. Data set up\n"
      ]
    },
    {
      "cell_type": "markdown",
      "metadata": {
        "id": "u8BNaD9dkIVa"
      },
      "source": [
        "## 1.1 Load Data\n",
        "\n",
        "Please upload both datasets (any file format is ok) to your google drive, and load the datasets through google drive file id in your code. If you want to use Jupyter, please submit all the dataset in an additional zip file.\n",
        "\n",
        "\n"
      ]
    },
    {
      "cell_type": "code",
      "metadata": {
        "id": "PjVkg2z0iZh3",
        "colab": {
          "base_uri": "https://localhost:8080/"
        },
        "outputId": "ed4c461c-9d42-416c-cf5e-5202b9f9343f"
      },
      "source": [
        "import numpy as np\n",
        "import pandas as pd\n",
        "import matplotlib.pyplot as plt\n",
        "%matplotlib inline\n",
        "# mounted my google drive\n",
        "from google.colab import drive\n",
        "drive.mount('/content/drive')\n",
        "# !pip install PyDrive\n",
        "# from pydrive.auth import GoogleAuth\n",
        "# from pydrive.drive import GoogleDrive\n",
        "# from google.colab import auth\n",
        "# from oauth2client.client import GoogleCredentials\n",
        "\n",
        "# auth.authenticate_user()\n",
        "# gauth = GoogleAuth()\n",
        "# gauth.credentials = GoogleCredentials.get_application_default()\n",
        "# drive = GoogleDrive(gauth)\n",
        "\n",
        "\n",
        "\n",
        "# id =\"1yQ1YWdwtgohspCwPbpiULcVag9lkijxK\"\n",
        "# downloaded = drive.CreateFile({'id':id})   \n",
        "# downloaded.GetContentFile('amazon_book.review')  \n",
        "\n",
        "# # id = \"1GFkOX8UdOoLwiQRFQDi0mfdwwUJN0pLc\"\n",
        "# # downloaded = drive.CreateFile({'id':id})   \n",
        "# # downloaded.GetContentFile('CroppedYale')"
      ],
      "execution_count": null,
      "outputs": [
        {
          "output_type": "stream",
          "text": [
            "Mounted at /content/drive\n",
            "Requirement already satisfied: PyDrive in /usr/local/lib/python3.7/dist-packages (1.3.1)\n",
            "Requirement already satisfied: oauth2client>=4.0.0 in /usr/local/lib/python3.7/dist-packages (from PyDrive) (4.1.3)\n",
            "Requirement already satisfied: google-api-python-client>=1.2 in /usr/local/lib/python3.7/dist-packages (from PyDrive) (1.12.8)\n",
            "Requirement already satisfied: PyYAML>=3.0 in /usr/local/lib/python3.7/dist-packages (from PyDrive) (3.13)\n",
            "Requirement already satisfied: pyasn1>=0.1.7 in /usr/local/lib/python3.7/dist-packages (from oauth2client>=4.0.0->PyDrive) (0.4.8)\n",
            "Requirement already satisfied: six>=1.6.1 in /usr/local/lib/python3.7/dist-packages (from oauth2client>=4.0.0->PyDrive) (1.15.0)\n",
            "Requirement already satisfied: pyasn1-modules>=0.0.5 in /usr/local/lib/python3.7/dist-packages (from oauth2client>=4.0.0->PyDrive) (0.2.8)\n",
            "Requirement already satisfied: httplib2>=0.9.1 in /usr/local/lib/python3.7/dist-packages (from oauth2client>=4.0.0->PyDrive) (0.17.4)\n",
            "Requirement already satisfied: rsa>=3.1.4 in /usr/local/lib/python3.7/dist-packages (from oauth2client>=4.0.0->PyDrive) (4.7.2)\n",
            "Requirement already satisfied: google-api-core<2dev,>=1.21.0 in /usr/local/lib/python3.7/dist-packages (from google-api-python-client>=1.2->PyDrive) (1.26.3)\n",
            "Requirement already satisfied: uritemplate<4dev,>=3.0.0 in /usr/local/lib/python3.7/dist-packages (from google-api-python-client>=1.2->PyDrive) (3.0.1)\n",
            "Requirement already satisfied: google-auth-httplib2>=0.0.3 in /usr/local/lib/python3.7/dist-packages (from google-api-python-client>=1.2->PyDrive) (0.0.4)\n",
            "Requirement already satisfied: google-auth>=1.16.0 in /usr/local/lib/python3.7/dist-packages (from google-api-python-client>=1.2->PyDrive) (1.28.1)\n",
            "Requirement already satisfied: requests<3.0.0dev,>=2.18.0 in /usr/local/lib/python3.7/dist-packages (from google-api-core<2dev,>=1.21.0->google-api-python-client>=1.2->PyDrive) (2.23.0)\n",
            "Requirement already satisfied: protobuf>=3.12.0 in /usr/local/lib/python3.7/dist-packages (from google-api-core<2dev,>=1.21.0->google-api-python-client>=1.2->PyDrive) (3.12.4)\n",
            "Requirement already satisfied: setuptools>=40.3.0 in /usr/local/lib/python3.7/dist-packages (from google-api-core<2dev,>=1.21.0->google-api-python-client>=1.2->PyDrive) (56.1.0)\n",
            "Requirement already satisfied: pytz in /usr/local/lib/python3.7/dist-packages (from google-api-core<2dev,>=1.21.0->google-api-python-client>=1.2->PyDrive) (2018.9)\n",
            "Requirement already satisfied: googleapis-common-protos<2.0dev,>=1.6.0 in /usr/local/lib/python3.7/dist-packages (from google-api-core<2dev,>=1.21.0->google-api-python-client>=1.2->PyDrive) (1.53.0)\n",
            "Requirement already satisfied: packaging>=14.3 in /usr/local/lib/python3.7/dist-packages (from google-api-core<2dev,>=1.21.0->google-api-python-client>=1.2->PyDrive) (20.9)\n",
            "Requirement already satisfied: cachetools<5.0,>=2.0.0 in /usr/local/lib/python3.7/dist-packages (from google-auth>=1.16.0->google-api-python-client>=1.2->PyDrive) (4.2.1)\n",
            "Requirement already satisfied: idna<3,>=2.5 in /usr/local/lib/python3.7/dist-packages (from requests<3.0.0dev,>=2.18.0->google-api-core<2dev,>=1.21.0->google-api-python-client>=1.2->PyDrive) (2.10)\n",
            "Requirement already satisfied: certifi>=2017.4.17 in /usr/local/lib/python3.7/dist-packages (from requests<3.0.0dev,>=2.18.0->google-api-core<2dev,>=1.21.0->google-api-python-client>=1.2->PyDrive) (2020.12.5)\n",
            "Requirement already satisfied: urllib3!=1.25.0,!=1.25.1,<1.26,>=1.21.1 in /usr/local/lib/python3.7/dist-packages (from requests<3.0.0dev,>=2.18.0->google-api-core<2dev,>=1.21.0->google-api-python-client>=1.2->PyDrive) (1.24.3)\n",
            "Requirement already satisfied: chardet<4,>=3.0.2 in /usr/local/lib/python3.7/dist-packages (from requests<3.0.0dev,>=2.18.0->google-api-core<2dev,>=1.21.0->google-api-python-client>=1.2->PyDrive) (3.0.4)\n",
            "Requirement already satisfied: pyparsing>=2.0.2 in /usr/local/lib/python3.7/dist-packages (from packaging>=14.3->google-api-core<2dev,>=1.21.0->google-api-python-client>=1.2->PyDrive) (2.4.7)\n"
          ],
          "name": "stdout"
        }
      ]
    },
    {
      "cell_type": "markdown",
      "metadata": {
        "id": "wLvOuLx-teLS"
      },
      "source": [
        "### Dataset 1"
      ]
    },
    {
      "cell_type": "code",
      "metadata": {
        "id": "p9YdzFOvt1Ff",
        "colab": {
          "base_uri": "https://localhost:8080/"
        },
        "outputId": "a12ca6e8-5830-40e7-b689-5e7d824f7d54"
      },
      "source": [
        "import pandas as pd\n",
        "\n",
        "data = pd.read_csv('drive/MyDrive/amazon_book.review')\n",
        "#print((data['label'].to_string(index=False)))\n",
        "print(data)"
      ],
      "execution_count": null,
      "outputs": [
        {
          "output_type": "stream",
          "text": [
            "     helpful:1 voices_of:1 the_levels:1 it:1 only_knew:1 \"if_i:1 guidance_in:1 departing_one:1 familiarize:1 meaning:1 self_is:1 can_be:1 knowledge:3 koan's_since:1 be:1 experiences_actions:1 spiritually_the:1 you_to:1 collection:1 with_not:1 as:1 disciplines_spiritually:1 levels:1 that_i:1 work_but:1 to_anything:1 each_statement:1 much_much:1 dhu-l-nun:1 a_quote:1 badruddin:1 all_through:1 sets:1 but:1 chapters_offer:1 actions_remembrances:1 one_from:1 revisited_for:1 sufisim:1 some:1 fallow:1 upon:1 which:1 bistami_and:1 more_a:1 not_only:1 bayazid:1 path_of:1 awakening:1 the_many:1 intellective_sufis:1 experiences:1 and_all:1 great:3 and_much:1 yourself:1 through_the:1 guidance's._the:1 in_a:1 upon_awakening:1 meaning_for:1 introducing_hadiths:1 fantasic:1 guidance's.:1 had_taken:1 point_it:1 contemplation_in:1 value:1 quote_from:1 sincerity:1 remembrances_and:1 of_guidance:1 compared:1 find_no:1 eternal_intellective:1 to_the:1 touch:1 be_compared:1 actions:1 compared_some:1 is_true:1 all_and:1 point:1 of_departing:1 many_voices:1 many:1 in_which:1 self:2 i_had:1 anything_else.\"sufi:1 is_full:1 bistami_\"if:1 through:1 fantasic_collection:1 levels_of:1 works:1 disciplines:1 find:1 one:2 to:5 attar_dhu-l-nun:1 set:1 statement_falls:1 such:1 the_path:1 it's_enormously:1 works_of:1 of_orders:1 in_explaining:1 no_value:1 spiritually:1 also:1 transformations:1 explaining_the:1 thought:1 that_will:1 offer:1 great_set:1 from:2 as_attar:1 single_step:1 falls_in:1 would_find:1 anything:1 centering_thought:1 self_then:1 since_they:1 to_fallow:1 the_consciousness:1 the_knowledge:1 and_finally:1 one_single:1 step:1 work:1 some_what:1 a_great:1 will_allow:1 sheikh:1 transformations_it's:1 statement:1 also_the:1 falls:1 dhu-l-nun_sheikh:1 a_gathering:1 a_source:1 essential:1 or:1 orders:1 hadiths_experiences:1 for:2 of_knowledge:1 great_such:1 of:9 koan's:1 taken:1 they:1 fallow_these:1 sheikh_badruddin:1 bayazid_bistami:1 or_centering:1 then:1 no:1 all_in:1 value_to:1 what:1 remembrances:1 sufis:1 more:1 of_meaning:1 these:1 contextually_the:1 chapters:1 the_great:1 allow_you:1 and:3 you:1 much:2 contextually:1 orders_all:1 centering:1 explaining:1 with:1 gathering_of:1 gathering:1 badruddin_bistami:1 which_each:1 finally_transformations:1 but_also:1 of_contemplation:1 it's:1 great_work:1 sincerity_i:1 they_touch:1 only_great:1 source:1 would:1 offer_a:1 had:1 all:4 thought_contextually:1 the_chapters:1 of_the:3 can:1 familiarize_yourself:1 the_point:1 the_self:2 that:2 to_familiarize:1 else.\"sufi:1 is_a:1 knowledge_can:1 single:1 knew:1 since:1 touch_upon:1 helpful_to:1 true_to:1 the_works:1 knowledge_is:1 yourself_with:1 knowledge_in:1 much_more:1 is:4 contemplation:1 in:6 each:1 \"if:1 in_sincerity:1 such_as:1 voices:1 finally:1 i_only:1 knew_that:1 hadiths:1 quote:1 for_guidance's.:1 step_in:1 path:1 introducing:1 attar:1 all_disciplines:1 i_would:1 to_koan's:1 i:3 consciousness_or:1 these_sets:1 guidance:1 a:4 it_is:1 collection_of:1 essential_is:1 consciousness:1 not:1 taken_one:1 true:1 what_to:1 sets_of:1 then_introducing:1 else.\"sufi_knowledge:1 in_sufisim:1 the_eternal:1 from_bayazid:1 source_that:1 awakening_the:1 only:2 departing:1 is_revisited:1 the:12 will:1 revisited:1 enormously:1 bistami:2 allow:1 eternal:1 full:1 set_of:1 from_the:1 intellective:1 in_all:1 enormously_helpful:1 full_of:1 for_all:1 #label#:5.0\n",
            "0     i:3 keeper:1 somewhere:1 to_someone:1 job_now:...                                                                                                                                                                                                                                                                                                                                                                                                                                                                                                                                                                                                                                                                                                                                                                                                                                                                                                                                                                                                                                                                                                                                                                                                                                                                                                                                                                                                                                                                                                                                                                                                                                                                                                                                                                                                                                                                                                                                                                                                                                                                                                                                                                                                                                                                                                                                                                                                                                                                                                                                                                                                                                                                                                                                                                                                                                                                                                                                                                                                                                                                                                                                                                                                                                                                                                                                                                                                                                                        \n",
            "1     a:3 advice:1 into_my:1 and_does:1 come_close:1...                                                                                                                                                                                                                                                                                                                                                                                                                                                                                                                                                                                                                                                                                                                                                                                                                                                                                                                                                                                                                                                                                                                                                                                                                                                                                                                                                                                                                                                                                                                                                                                                                                                                                                                                                                                                                                                                                                                                                                                                                                                                                                                                                                                                                                                                                                                                                                                                                                                                                                                                                                                                                                                                                                                                                                                                                                                                                                                                                                                                                                                                                                                                                                                                                                                                                                                                                                                                                                                        \n",
            "2     it_would:1 count_system:1 continually:1 found:...                                                                                                                                                                                                                                                                                                                                                                                                                                                                                                                                                                                                                                                                                                                                                                                                                                                                                                                                                                                                                                                                                                                                                                                                                                                                                                                                                                                                                                                                                                                                                                                                                                                                                                                                                                                                                                                                                                                                                                                                                                                                                                                                                                                                                                                                                                                                                                                                                                                                                                                                                                                                                                                                                                                                                                                                                                                                                                                                                                                                                                                                                                                                                                                                                                                                                                                                                                                                                                                        \n",
            "3     yet.unless:1 and_sporatic:1 it:5 seems_to:1 of...                                                                                                                                                                                                                                                                                                                                                                                                                                                                                                                                                                                                                                                                                                                                                                                                                                                                                                                                                                                                                                                                                                                                                                                                                                                                                                                                                                                                                                                                                                                                                                                                                                                                                                                                                                                                                                                                                                                                                                                                                                                                                                                                                                                                                                                                                                                                                                                                                                                                                                                                                                                                                                                                                                                                                                                                                                                                                                                                                                                                                                                                                                                                                                                                                                                                                                                                                                                                                                                        \n",
            "4     opportunities_exist:1 <num>_billion:1 of_artic...                                                                                                                                                                                                                                                                                                                                                                                                                                                                                                                                                                                                                                                                                                                                                                                                                                                                                                                                                                                                                                                                                                                                                                                                                                                                                                                                                                                                                                                                                                                                                                                                                                                                                                                                                                                                                                                                                                                                                                                                                                                                                                                                                                                                                                                                                                                                                                                                                                                                                                                                                                                                                                                                                                                                                                                                                                                                                                                                                                                                                                                                                                                                                                                                                                                                                                                                                                                                                                                        \n",
            "...                                                 ...                                                                                                                                                                                                                                                                                                                                                                                                                                                                                                                                                                                                                                                                                                                                                                                                                                                                                                                                                                                                                                                                                                                                                                                                                                                                                                                                                                                                                                                                                                                                                                                                                                                                                                                                                                                                                                                                                                                                                                                                                                                                                                                                                                                                                                                                                                                                                                                                                                                                                                                                                                                                                                                                                                                                                                                                                                                                                                                                                                                                                                                                                                                                                                                                                                                                                                                                                                                                                                                        \n",
            "5495  one_more:1 my:2 been:2 annoyed:1 description:1...                                                                                                                                                                                                                                                                                                                                                                                                                                                                                                                                                                                                                                                                                                                                                                                                                                                                                                                                                                                                                                                                                                                                                                                                                                                                                                                                                                                                                                                                                                                                                                                                                                                                                                                                                                                                                                                                                                                                                                                                                                                                                                                                                                                                                                                                                                                                                                                                                                                                                                                                                                                                                                                                                                                                                                                                                                                                                                                                                                                                                                                                                                                                                                                                                                                                                                                                                                                                                                                        \n",
            "5496  strikes_rule:1 nicely:1 is_facing:1 (didn't:1 ...                                                                                                                                                                                                                                                                                                                                                                                                                                                                                                                                                                                                                                                                                                                                                                                                                                                                                                                                                                                                                                                                                                                                                                                                                                                                                                                                                                                                                                                                                                                                                                                                                                                                                                                                                                                                                                                                                                                                                                                                                                                                                                                                                                                                                                                                                                                                                                                                                                                                                                                                                                                                                                                                                                                                                                                                                                                                                                                                                                                                                                                                                                                                                                                                                                                                                                                                                                                                                                                        \n",
            "5497  science_fiction:1 which:1 ursula:1 mostly_rele...                                                                                                                                                                                                                                                                                                                                                                                                                                                                                                                                                                                                                                                                                                                                                                                                                                                                                                                                                                                                                                                                                                                                                                                                                                                                                                                                                                                                                                                                                                                                                                                                                                                                                                                                                                                                                                                                                                                                                                                                                                                                                                                                                                                                                                                                                                                                                                                                                                                                                                                                                                                                                                                                                                                                                                                                                                                                                                                                                                                                                                                                                                                                                                                                                                                                                                                                                                                                                                                        \n",
            "5498  i:1 only:1 suffered_at:1 allowing:1 one:1 culm...                                                                                                                                                                                                                                                                                                                                                                                                                                                                                                                                                                                                                                                                                                                                                                                                                                                                                                                                                                                                                                                                                                                                                                                                                                                                                                                                                                                                                                                                                                                                                                                                                                                                                                                                                                                                                                                                                                                                                                                                                                                                                                                                                                                                                                                                                                                                                                                                                                                                                                                                                                                                                                                                                                                                                                                                                                                                                                                                                                                                                                                                                                                                                                                                                                                                                                                                                                                                                                                        \n",
            "5499  i:5 while_living:1 new_york:2 tedious_boring:1...                                                                                                                                                                                                                                                                                                                                                                                                                                                                                                                                                                                                                                                                                                                                                                                                                                                                                                                                                                                                                                                                                                                                                                                                                                                                                                                                                                                                                                                                                                                                                                                                                                                                                                                                                                                                                                                                                                                                                                                                                                                                                                                                                                                                                                                                                                                                                                                                                                                                                                                                                                                                                                                                                                                                                                                                                                                                                                                                                                                                                                                                                                                                                                                                                                                                                                                                                                                                                                                        \n",
            "\n",
            "[5500 rows x 1 columns]\n"
          ],
          "name": "stdout"
        }
      ]
    },
    {
      "cell_type": "markdown",
      "metadata": {
        "id": "ItHFfjgHtlPK"
      },
      "source": [
        "### Dataset 2"
      ]
    },
    {
      "cell_type": "code",
      "metadata": {
        "id": "ZOoITp-XEHky"
      },
      "source": [
        "import os\n",
        "from skimage import io\n",
        "from PIL import Image\n",
        "import numpy as np\n",
        "from IPython.display import display\n",
        "# im = Image.open('drive/MyDrive/CroppedYale/yaleB01/yaleB01_P00A+000E-20.pgm')\n",
        "# im1 = Image.open('drive/MyDrive/CroppedYale/yaleB06/yaleB06_P00_Ambient.pgm')\n",
        "# a1 = np.asarray(im1)\n",
        "# a = np.asarray(im)\n",
        "\n",
        "# im = Image.fromarray(a)\n",
        "# im1 = Image.fromarray(a1)\n",
        "\n",
        "#display(im)\n",
        "#display(im1)\n",
        "\n",
        "# 10 classes store \n",
        "dataSets10 = []\n",
        "classes10 = []\n",
        "k = 1\n",
        "for folder in os.listdir(\"drive/MyDrive/CroppedYale\"):\n",
        "  if folder.startswith(\"yale\"):\n",
        "    dataSets10.append(os.path.join(\"drive/MyDrive/CroppedYale\", folder))\n",
        "    print(dataSets10[k])\n",
        "    # k += 1\n",
        "for folder in dataSets10:\n",
        "  temporaryArray=[]\n",
        "  for file in os.listdir(folder):\n",
        "    if file.endswith(\".pgm\"):\n",
        "      im = Image.open(os.path.join(str(folder), y))\n",
        "      imArray = np.asarray(im)\n",
        "      temporaryArray.append(imArray)\n",
        "     \n",
        "\n",
        "  classes10.append(temporaryArray)\n",
        "      # a = np.asarray(im)\n",
        "      # d1.append(a)\n",
        "      # print(len(d1))\n",
        "    # d1.append(os.path.join(\"drive/MyDrive/CroppedYale/yaleB01\", i))\n",
        "    # # print(d1[k])\n",
        "    # # k += 1\n",
        "\n",
        "print(len(classes10))"
      ],
      "execution_count": null,
      "outputs": []
    },
    {
      "cell_type": "markdown",
      "metadata": {
        "id": "F-3XiApgk3sA"
      },
      "source": [
        "\n",
        "\n",
        "---\n",
        "\n",
        "\n",
        "# 2. K-means Clustering"
      ]
    },
    {
      "cell_type": "markdown",
      "metadata": {
        "id": "hxAng4yft0nA"
      },
      "source": [
        "## 2.1 Dataset 1"
      ]
    },
    {
      "cell_type": "markdown",
      "metadata": {
        "id": "WgV8ZaHalV5D"
      },
      "source": [
        "### Train K-means clustering"
      ]
    },
    {
      "cell_type": "code",
      "metadata": {
        "id": "5rI1uVZUuPOi"
      },
      "source": [
        "from sklearn.cluster import KMeans"
      ],
      "execution_count": null,
      "outputs": []
    },
    {
      "cell_type": "markdown",
      "metadata": {
        "id": "VLaxMNFYlxUR"
      },
      "source": [
        "### First evaluation"
      ]
    },
    {
      "cell_type": "code",
      "metadata": {
        "id": "hiOAurVPluWC"
      },
      "source": [
        ""
      ],
      "execution_count": null,
      "outputs": []
    },
    {
      "cell_type": "markdown",
      "metadata": {
        "id": "XrItLpXPlk15"
      },
      "source": [
        "### Second evaluation"
      ]
    },
    {
      "cell_type": "code",
      "metadata": {
        "id": "yGE6IWzxmHA1"
      },
      "source": [
        ""
      ],
      "execution_count": null,
      "outputs": []
    },
    {
      "cell_type": "markdown",
      "metadata": {
        "id": "o-dhDS0cuYGI"
      },
      "source": [
        "## 2.2 Dataset 2"
      ]
    },
    {
      "cell_type": "markdown",
      "metadata": {
        "id": "Shyegx-9ufUI"
      },
      "source": [
        "### Train K-means clustering"
      ]
    },
    {
      "cell_type": "code",
      "metadata": {
        "id": "vBjbFw8Y4XML"
      },
      "source": [
        ""
      ],
      "execution_count": null,
      "outputs": []
    },
    {
      "cell_type": "markdown",
      "metadata": {
        "id": "y-iD8b9bulEZ"
      },
      "source": [
        "### First evaluation"
      ]
    },
    {
      "cell_type": "code",
      "metadata": {
        "id": "YFm649x0hcyH"
      },
      "source": [
        ""
      ],
      "execution_count": null,
      "outputs": []
    },
    {
      "cell_type": "markdown",
      "metadata": {
        "id": "InkaP1GTupgP"
      },
      "source": [
        "### Second evaluation "
      ]
    },
    {
      "cell_type": "code",
      "metadata": {
        "id": "XVMYx4dXF2w8"
      },
      "source": [
        ""
      ],
      "execution_count": null,
      "outputs": []
    },
    {
      "cell_type": "markdown",
      "metadata": {
        "id": "BVB6M5-tmVZ6"
      },
      "source": [
        "\n",
        "\n",
        "---\n",
        "\n",
        "\n",
        "# 3. Hierachical Clustering"
      ]
    },
    {
      "cell_type": "markdown",
      "metadata": {
        "id": "4e1rXjiou6Xg"
      },
      "source": [
        "## 3.1 Dataset 1"
      ]
    },
    {
      "cell_type": "markdown",
      "metadata": {
        "id": "lyI1Q-dJmj2D"
      },
      "source": [
        "### Train Hierarchical clustering "
      ]
    },
    {
      "cell_type": "code",
      "metadata": {
        "id": "yzSTBU2AmZub"
      },
      "source": [
        ""
      ],
      "execution_count": null,
      "outputs": []
    },
    {
      "cell_type": "markdown",
      "metadata": {
        "id": "u06Odf2RvATE"
      },
      "source": [
        "### First evaluation "
      ]
    },
    {
      "cell_type": "code",
      "metadata": {
        "id": "1SXvtt22vD_j"
      },
      "source": [
        ""
      ],
      "execution_count": null,
      "outputs": []
    },
    {
      "cell_type": "markdown",
      "metadata": {
        "id": "NP2DhEZQvE5U"
      },
      "source": [
        "### Second evaluation "
      ]
    },
    {
      "cell_type": "code",
      "metadata": {
        "id": "o-VNWQFsvIyL"
      },
      "source": [
        ""
      ],
      "execution_count": null,
      "outputs": []
    },
    {
      "cell_type": "markdown",
      "metadata": {
        "id": "VltnIWtBmqID"
      },
      "source": [
        "## 3.2 Dataset 2"
      ]
    },
    {
      "cell_type": "markdown",
      "metadata": {
        "id": "fcVNl0dOvUsq"
      },
      "source": [
        "### Train Hierarchical clustering "
      ]
    },
    {
      "cell_type": "code",
      "metadata": {
        "id": "tCcBxQaGvYgO"
      },
      "source": [
        ""
      ],
      "execution_count": null,
      "outputs": []
    },
    {
      "cell_type": "markdown",
      "metadata": {
        "id": "8b6JvPUfm4Q-"
      },
      "source": [
        "### First evaluation"
      ]
    },
    {
      "cell_type": "code",
      "metadata": {
        "id": "IPvIi1rC-Afg"
      },
      "source": [
        ""
      ],
      "execution_count": null,
      "outputs": []
    },
    {
      "cell_type": "markdown",
      "metadata": {
        "id": "jxhZGBnSm98d"
      },
      "source": [
        "### Second evalaution "
      ]
    },
    {
      "cell_type": "code",
      "metadata": {
        "id": "37S5tqcz-0Js"
      },
      "source": [
        ""
      ],
      "execution_count": null,
      "outputs": []
    },
    {
      "cell_type": "markdown",
      "metadata": {
        "id": "do-r947ZnGTQ"
      },
      "source": [
        "\n",
        "\n",
        "---\n",
        "\n",
        "\n",
        "# 4. DBSCAN Clustering"
      ]
    },
    {
      "cell_type": "markdown",
      "metadata": {
        "id": "QxvlRqgovlC7"
      },
      "source": [
        "## 4.1 Dataset 1"
      ]
    },
    {
      "cell_type": "markdown",
      "metadata": {
        "id": "2rJ2wmllvrmR"
      },
      "source": [
        "### Train DBSCAN clustering "
      ]
    },
    {
      "cell_type": "code",
      "metadata": {
        "id": "y3zDjJVX3U-a"
      },
      "source": [
        ""
      ],
      "execution_count": null,
      "outputs": []
    },
    {
      "cell_type": "markdown",
      "metadata": {
        "id": "KxeyDFICvw9b"
      },
      "source": [
        "### First evaluation"
      ]
    },
    {
      "cell_type": "code",
      "metadata": {
        "id": "Qtfuz5523XWr"
      },
      "source": [
        ""
      ],
      "execution_count": null,
      "outputs": []
    },
    {
      "cell_type": "markdown",
      "metadata": {
        "id": "Bjhyvv9Qv0rP"
      },
      "source": [
        "### Second evaluation "
      ]
    },
    {
      "cell_type": "code",
      "metadata": {
        "id": "ON1_RFmv3bj3"
      },
      "source": [
        ""
      ],
      "execution_count": null,
      "outputs": []
    },
    {
      "cell_type": "markdown",
      "metadata": {
        "id": "t-POjSqnv7gB"
      },
      "source": [
        "## 4.2 Dataset 2"
      ]
    },
    {
      "cell_type": "markdown",
      "metadata": {
        "id": "wKK7dFVhv-UX"
      },
      "source": [
        "### Train DBSCAN clustering "
      ]
    },
    {
      "cell_type": "code",
      "metadata": {
        "id": "9R8e0huUuu7L"
      },
      "source": [
        ""
      ],
      "execution_count": null,
      "outputs": []
    },
    {
      "cell_type": "markdown",
      "metadata": {
        "id": "OrKT0eKewCgm"
      },
      "source": [
        "### First evaluation "
      ]
    },
    {
      "cell_type": "code",
      "metadata": {
        "id": "fxy2Rsl6wBCM"
      },
      "source": [
        ""
      ],
      "execution_count": null,
      "outputs": []
    },
    {
      "cell_type": "markdown",
      "metadata": {
        "id": "1joILa4LwFbs"
      },
      "source": [
        "### Second evaluation "
      ]
    },
    {
      "cell_type": "code",
      "metadata": {
        "id": "n_QJ74S7wH7b"
      },
      "source": [
        ""
      ],
      "execution_count": null,
      "outputs": []
    }
  ]
}